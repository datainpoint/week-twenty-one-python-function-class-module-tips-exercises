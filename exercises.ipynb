{
 "cells": [
  {
   "cell_type": "markdown",
   "metadata": {
    "deletable": false,
    "editable": false
   },
   "source": [
    "# 約維安計畫：Python 函數、類別、模組與技巧練習題\n",
    "\n",
    "> 第二十一週\n",
    "\n",
    "[數據交點](https://www.datainpoint.com/) | 郭耀仁 <yaojenkuo@datainpoint.com>"
   ]
  },
  {
   "cell_type": "code",
   "execution_count": 1,
   "metadata": {
    "deletable": false,
    "editable": false
   },
   "outputs": [],
   "source": [
    "import unittest\n",
    "import json"
   ]
  },
  {
   "cell_type": "markdown",
   "metadata": {
    "deletable": false
   },
   "source": [
    "## 練習題指引\n",
    "\n",
    "- 第一個程式碼儲存格會將可能用得到的模組（套件）以及單元測試 `unittest` 載入。\n",
    "- 如果練習題需要載入檔案，檔案與練習題存放在同個資料夾中，意即我們可以指定工作目錄來載入。\n",
    "- 練習題已經定義好函數或者類別的名稱以及參數名稱，我們只需要寫作主體。\n",
    "- 函數或者類別的 `\"\"\"docstring\"\"\"` 部分會描述測試如何進行。\n",
    "- 觀察 `\"\"\"docstring\"\"\"` 的部分能夠暸解輸入以及預期輸出之間的關係，能幫助我們更暸解題目。\n",
    "- 請在 `### BEGIN SOLUTION` 與 `### END SOLUTION` 這兩個單行註解之間寫作函數或者類別的主體。\n",
    "- 執行測試的方式為點選上方選單的 Kernel -> Restart Kernel And Run All Cells -> Restart。\n",
    "- 可以每寫一題就執行測試，也可以全部寫完再執行測試。\n",
    "- 練習題閒置超過 10 分鐘會自動斷線，這時只要重新點選練習題連結即可重新啟動。"
   ]
  },
  {
   "cell_type": "markdown",
   "metadata": {},
   "source": [
    "## 01. 自行定義函數 `square_negatives_from_args(*args)` 可以將彈性參數中的負整數平方後輸出。\n",
    "\n",
    "- 預期輸入 `*args`\n",
    "- 預期輸出`list`"
   ]
  },
  {
   "cell_type": "code",
   "execution_count": 2,
   "metadata": {},
   "outputs": [],
   "source": [
    "def square_negatives_from_args(*args) -> list:\n",
    "    \"\"\"\n",
    "    >>> square_negatives_from_args(-3, -2, -1, 0, 1, 2, 3)\n",
    "    [9, 4, 1]\n",
    "    >>> square_negatives_from_args(-3, -2, -1, 0, 1, 2, 3, '4', '5')\n",
    "    [9, 4, 1]\n",
    "    >>> square_negatives_from_args(-3, -2, -1, False, True, 2, 3, '4', '5')\n",
    "    [9, 4, 1]\n",
    "    \"\"\"\n",
    "    ### BEGIN SOLUTION\n",
    "    \n",
    "    ### END SOLUTION"
   ]
  },
  {
   "cell_type": "markdown",
   "metadata": {},
   "source": [
    "## 02. 自行定義函數 `find_positives_from_args(*args)` 可以將彈性參數中的正整數（包含布林 `False` 與 `True`）輸出。\n",
    "\n",
    "- 預期輸入 `*args`\n",
    "- 預期輸出 `list`"
   ]
  },
  {
   "cell_type": "code",
   "execution_count": 3,
   "metadata": {},
   "outputs": [],
   "source": [
    "def filter_positives_from_args(*args) -> list:\n",
    "    \"\"\"\n",
    "    >>> filter_positives_from_args(-3, -2, -1, 0, 1, 2, 3)\n",
    "    [0, 1, 2, 3]\n",
    "    >>> filter_positives_from_args(-3, -2, -1, 0, 1, 2, 3, '4', '5')\n",
    "    [0, 1, 2, 3]\n",
    "    >>> filter_positives_from_args(-3, -2, -1, False, True, 2, 3, '4', '5')\n",
    "    [False, True, 2, 3]\n",
    "    \"\"\"\n",
    "    ### BEGIN SOLUTION\n",
    "    \n",
    "    ### END SOLUTION"
   ]
  },
  {
   "cell_type": "markdown",
   "metadata": {},
   "source": [
    "## 03. 自行定義函數 `uppercase_keys_from_kwargs(**kwargs)` 可以將彈性鍵值參數中的鍵改為全大寫後輸出。\n",
    "\n",
    "- 預期輸入 `**kwargs`\n",
    "- 預期輸出 `list`"
   ]
  },
  {
   "cell_type": "code",
   "execution_count": 4,
   "metadata": {},
   "outputs": [],
   "source": [
    "def uppercase_keys_from_kwargs(**kwargs) -> list:\n",
    "    \"\"\"\n",
    "    >>> uppercase_keys_from_kwargs(twn='Taiwan')\n",
    "    ['TWN']\n",
    "    >>> uppercase_keys_from_kwargs(twn='Taiwan', jpn='Japan')\n",
    "    ['TWN', 'JPN']\n",
    "    >>> uppercase_keys_from_kwargs(twn='Taiwan', jpn='Japan', ltu=\"Lithuania\")\n",
    "    ['TWN', 'JPN', 'LTU']\n",
    "    >>> uppercase_keys_from_kwargs(twn='Taiwan', jpn='Japan', ltu=\"Lithuania\", svn='Slovenia')\n",
    "    ['TWN', 'JPN', 'LTU', 'SVN']\n",
    "    \"\"\"\n",
    "    ### BEGIN SOLUTION\n",
    "    \n",
    "    ### END SOLUTION"
   ]
  },
  {
   "cell_type": "markdown",
   "metadata": {},
   "source": [
    "## 04. 自行定義函數 `count_number_of_each_vowel(x)` 可以將輸入文字中各個母音的出現次數彙整後輸出。\n",
    "\n",
    "- 預期輸入 `str`\n",
    "- 預期輸出 `dict`"
   ]
  },
  {
   "cell_type": "code",
   "execution_count": 5,
   "metadata": {},
   "outputs": [],
   "source": [
    "def count_number_of_each_vowel(x: str) -> dict:\n",
    "    \"\"\"\n",
    "    >>> count_number_of_each_vowel(\"Python\")\n",
    "    {'o': 1}\n",
    "    >>> count_number_of_each_vowel(\"Anaconda\")\n",
    "    {'a': 3, 'o': 1}\n",
    "    >>> count_number_of_each_vowel(\"Programming and Data Analysis\")\n",
    "    {'o': 1, 'a': 6, 'i': 2}\n",
    "    >>> count_number_of_each_vowel(\"National Taiwan University\")\n",
    "    {'a': 4, 'i': 4, 'o': 1, 'u': 1, 'e': 1}\n",
    "    \"\"\"\n",
    "    ### BEGIN SOLUTION\n",
    "    \n",
    "    ### END SOLUTION"
   ]
  },
  {
   "cell_type": "markdown",
   "metadata": {},
   "source": [
    "## 05. 自行定義類別 `Palindrome` 可以建立有兩個屬性 `original_text`、`reversed_text` 以及有一個方法 `is_palindrome()` 的物件。\n",
    "\n",
    "- 預期輸入 `str`\n",
    "- 預期輸出 `str`/`bool`"
   ]
  },
  {
   "cell_type": "code",
   "execution_count": 6,
   "metadata": {},
   "outputs": [],
   "source": [
    "class Palindrome:\n",
    "    \"\"\"\n",
    "    >>> palindrome = Palindrome('eye')\n",
    "    >>> palindrome.original_text\n",
    "    'eye'\n",
    "    >>> palindrome.reversed_text\n",
    "    'eye'\n",
    "    >>> palindrome.is_palindrome()\n",
    "    True\n",
    "    >>> palindrome = Palindrome('dye')\n",
    "    >>> palindrome.original_text\n",
    "    'dye'\n",
    "    >>> palindrome.reversed_text\n",
    "    'eyd'\n",
    "    >>> palindrome.is_palindrome()\n",
    "    False\n",
    "    \"\"\"\n",
    "    ### BEGIN SOLUTION\n",
    "    \n",
    "    ### END SOLUTION"
   ]
  },
  {
   "cell_type": "markdown",
   "metadata": {},
   "source": [
    "## 06. 自行定義類別 `CommonDivisors` 可以建立有兩個屬性 `x_divisors`、`y_divisors` 以及有一個方法 `get_common_divisors()` 的物件。\n",
    "\n",
    "- 預期輸入 `int`\n",
    "- 預期輸出 `set`"
   ]
  },
  {
   "cell_type": "code",
   "execution_count": 7,
   "metadata": {},
   "outputs": [],
   "source": [
    "class CommonDivisors:\n",
    "    \"\"\"\n",
    "    >>> cd = CommonDivisors(3, 6)\n",
    "    >>> cd.x_divisors\n",
    "    {1, 3}\n",
    "    >>> cd.y_divisors\n",
    "    {1, 2, 3, 6}\n",
    "    >>> cd.get_common_divisors()\n",
    "    {1, 3}\n",
    "    >>> cd = CommonDivisors(4, 8)\n",
    "    >>> cd.x_divisors\n",
    "    {1, 2, 4}\n",
    "    >>> cd.y_divisors\n",
    "    {1, 2, 4, 8}\n",
    "    >>> cd.get_common_divisors()\n",
    "    {1, 2, 4}\n",
    "    \"\"\"\n",
    "    ### BEGIN SOLUTION\n",
    "    \n",
    "    ### END SOLUTION"
   ]
  },
  {
   "cell_type": "markdown",
   "metadata": {},
   "source": [
    "## 07. 自行定義類別 `PrimeJudgement` 可以建立有兩個方法 `get_divisors()`、`is_prime()` 的物件。\n",
    "\n",
    "- 預期輸入 `int`\n",
    "- 預期輸出 `set`/`bool`"
   ]
  },
  {
   "cell_type": "code",
   "execution_count": 8,
   "metadata": {},
   "outputs": [],
   "source": [
    "class PrimeJudgement:\n",
    "    \"\"\"\n",
    "    >>> pj = PrimeJudgement(1)\n",
    "    >>> pj.get_divisors()\n",
    "    {1}\n",
    "    >>> pj.is_prime()\n",
    "    False\n",
    "    >>> pj = PrimeJudgement(2)\n",
    "    >>> pj.get_divisors()\n",
    "    {1, 2}\n",
    "    >>> pj.is_prime()\n",
    "    True\n",
    "    >>> pj = PrimeJudgement(4)\n",
    "    >>> pj.get_divisors()\n",
    "    {1, 2, 4}\n",
    "    >>> pj.is_prime()\n",
    "    False\n",
    "    \"\"\"\n",
    "    ### BEGIN SOLUTION\n",
    "    \n",
    "    ### END SOLUTION"
   ]
  },
  {
   "cell_type": "markdown",
   "metadata": {},
   "source": [
    "## 08. 自行定義函數 `load_teams_json()` 可以將工作目錄的 `teams.json` 載入並輸出為 `dict`。\n",
    "\n",
    "來源：<https://docs.python.org/3/library/json.html>\n",
    "\n",
    "- 預期輸入 None\n",
    "- 預期輸出 `dict`"
   ]
  },
  {
   "cell_type": "code",
   "execution_count": 9,
   "metadata": {},
   "outputs": [],
   "source": [
    "def load_teams_json():\n",
    "    \"\"\"\n",
    "    >>> teams = load_teams_json()\n",
    "    >>> type(teams)\n",
    "    dict\n",
    "    >>> len(teams)\n",
    "    2\n",
    "    >>> teams.keys()\n",
    "    dict_keys(['_internal', 'league'])\n",
    "    \"\"\"\n",
    "    ### BEGIN SOLUTION\n",
    "    \n",
    "    ### END SOLUTION"
   ]
  },
  {
   "cell_type": "markdown",
   "metadata": {},
   "source": [
    "## 09. 自行定義函數 `find_team_full_names()` 可以從 `teams.json` 中擷取出 30 支正式的 NBA 球隊（NBA franchised teams）的全名。\n",
    "\n",
    "來源：<https://www.nba.com/teams>\n",
    "\n",
    "- 預期輸入 None\n",
    "- 預期輸出 `list`"
   ]
  },
  {
   "cell_type": "code",
   "execution_count": 10,
   "metadata": {},
   "outputs": [],
   "source": [
    "def find_team_full_names():\n",
    "    \"\"\"\n",
    "    >>> team_full_names = find_team_full_names()\n",
    "    >>> type(team_full_names)\n",
    "    list\n",
    "    >>> len(team_full_names)\n",
    "    30\n",
    "    >>> team_full_names[:5]\n",
    "    ['Atlanta Hawks',\n",
    "     'Boston Celtics',\n",
    "     'Brooklyn Nets',\n",
    "     'Charlotte Hornets',\n",
    "     'Chicago Bulls']\n",
    "    >>> team_full_names[-5:]\n",
    "    ['Sacramento Kings',\n",
    "     'San Antonio Spurs',\n",
    "     'Toronto Raptors',\n",
    "     'Utah Jazz',\n",
    "     'Washington Wizards']\n",
    "    \"\"\"\n",
    "    ### BEGIN SOLUTION\n",
    "    \n",
    "    ### END SOLUTION"
   ]
  },
  {
   "cell_type": "markdown",
   "metadata": {},
   "source": [
    "## 10. 自行定義函數 `find_teams_with_special_tricodes()` 可以從 30 支正式的 NBA 球隊中找出三碼縮寫（tricode）並不是全名前三個字母大寫的球隊，例如：Brooklyn Nets(BKN) 以及 San Antonio Spurs(SAS) 是我們要找的球隊，而 Boston Celtics(BOS) 與 LA Clippers(LAC) 則不是我們要找的球隊。\n",
    "\n",
    "- 預期輸入 None\n",
    "- 預期輸出 `dict`"
   ]
  },
  {
   "cell_type": "code",
   "execution_count": 11,
   "metadata": {},
   "outputs": [],
   "source": [
    "def find_teams_with_special_tricodes():\n",
    "    \"\"\"\n",
    "    >>> teams_with_special_tricodes = find_teams_with_special_tricodes()\n",
    "    >>> type(teams_with_special_tricodes)\n",
    "    dict\n",
    "    >>> len(teams_with_special_tricodes)\n",
    "    8\n",
    "    >>> teams_with_special_tricodes['BKN']\n",
    "    'Brooklyn Nets'\n",
    "    >>> teams_with_special_tricodes['SAS']\n",
    "    'San Antonio Spurs'\n",
    "    \"\"\"\n",
    "    ### BEGIN SOLUTION\n",
    "    \n",
    "    ### END SOLUTION"
   ]
  },
  {
   "cell_type": "markdown",
   "metadata": {
    "deletable": false,
    "editable": false
   },
   "source": [
    "## 執行測試！\n",
    "\n",
    "Kernel -> Restart Kernel And Run All Cells -> Restart."
   ]
  },
  {
   "cell_type": "code",
   "execution_count": 12,
   "metadata": {
    "deletable": false,
    "editable": false
   },
   "outputs": [
    {
     "name": "stderr",
     "output_type": "stream",
     "text": [
      "test_01_square_negatives_from_args (__main__.TestWeekTwentyOne) ... FAIL\n",
      "test_02_filter_positives_from_args (__main__.TestWeekTwentyOne) ... FAIL\n",
      "test_03_uppercase_keys_from_kwargs (__main__.TestWeekTwentyOne) ... FAIL\n",
      "test_04_count_number_of_each_vowel (__main__.TestWeekTwentyOne) ... FAIL\n",
      "test_05_palindrome (__main__.TestWeekTwentyOne) ... ERROR\n",
      "test_06_common_divisors (__main__.TestWeekTwentyOne) ... ERROR\n",
      "test_07_prime_judgement (__main__.TestWeekTwentyOne) ... ERROR\n",
      "test_08_load_teams_json (__main__.TestWeekTwentyOne) ... FAIL\n",
      "test_09_find_team_full_names (__main__.TestWeekTwentyOne) ... FAIL\n",
      "test_10_find_teams_with_special_tricodes (__main__.TestWeekTwentyOne) ... FAIL\n",
      "\n",
      "======================================================================\n",
      "ERROR: test_05_palindrome (__main__.TestWeekTwentyOne)\n",
      "----------------------------------------------------------------------\n",
      "Traceback (most recent call last):\n",
      "  File \"/var/folders/0b/r__z5mpn6ldgb_w2j7_y_ntr0000gn/T/ipykernel_34534/2010995031.py\", line 23, in test_05_palindrome\n",
      "    eye = Palindrome('eye')\n",
      "TypeError: Palindrome() takes no arguments\n",
      "\n",
      "======================================================================\n",
      "ERROR: test_06_common_divisors (__main__.TestWeekTwentyOne)\n",
      "----------------------------------------------------------------------\n",
      "Traceback (most recent call last):\n",
      "  File \"/var/folders/0b/r__z5mpn6ldgb_w2j7_y_ntr0000gn/T/ipykernel_34534/2010995031.py\", line 36, in test_06_common_divisors\n",
      "    cd = CommonDivisors(3, 6)\n",
      "TypeError: CommonDivisors() takes no arguments\n",
      "\n",
      "======================================================================\n",
      "ERROR: test_07_prime_judgement (__main__.TestWeekTwentyOne)\n",
      "----------------------------------------------------------------------\n",
      "Traceback (most recent call last):\n",
      "  File \"/var/folders/0b/r__z5mpn6ldgb_w2j7_y_ntr0000gn/T/ipykernel_34534/2010995031.py\", line 49, in test_07_prime_judgement\n",
      "    one = PrimeJudgement(1)\n",
      "TypeError: PrimeJudgement() takes no arguments\n",
      "\n",
      "======================================================================\n",
      "FAIL: test_01_square_negatives_from_args (__main__.TestWeekTwentyOne)\n",
      "----------------------------------------------------------------------\n",
      "Traceback (most recent call last):\n",
      "  File \"/var/folders/0b/r__z5mpn6ldgb_w2j7_y_ntr0000gn/T/ipykernel_34534/2010995031.py\", line 3, in test_01_square_negatives_from_args\n",
      "    self.assertEqual(square_negatives_from_args(-3, -2, -1, 0, 1, 2, 3), [9, 4, 1])\n",
      "AssertionError: None != [9, 4, 1]\n",
      "\n",
      "======================================================================\n",
      "FAIL: test_02_filter_positives_from_args (__main__.TestWeekTwentyOne)\n",
      "----------------------------------------------------------------------\n",
      "Traceback (most recent call last):\n",
      "  File \"/var/folders/0b/r__z5mpn6ldgb_w2j7_y_ntr0000gn/T/ipykernel_34534/2010995031.py\", line 8, in test_02_filter_positives_from_args\n",
      "    self.assertEqual(filter_positives_from_args(-3, -2, -1, 0, 1, 2, 3), [0, 1, 2, 3])\n",
      "AssertionError: None != [0, 1, 2, 3]\n",
      "\n",
      "======================================================================\n",
      "FAIL: test_03_uppercase_keys_from_kwargs (__main__.TestWeekTwentyOne)\n",
      "----------------------------------------------------------------------\n",
      "Traceback (most recent call last):\n",
      "  File \"/var/folders/0b/r__z5mpn6ldgb_w2j7_y_ntr0000gn/T/ipykernel_34534/2010995031.py\", line 12, in test_03_uppercase_keys_from_kwargs\n",
      "    self.assertEqual(uppercase_keys_from_kwargs(twn='Taiwan'), ['TWN'])\n",
      "AssertionError: None != ['TWN']\n",
      "\n",
      "======================================================================\n",
      "FAIL: test_04_count_number_of_each_vowel (__main__.TestWeekTwentyOne)\n",
      "----------------------------------------------------------------------\n",
      "Traceback (most recent call last):\n",
      "  File \"/var/folders/0b/r__z5mpn6ldgb_w2j7_y_ntr0000gn/T/ipykernel_34534/2010995031.py\", line 18, in test_04_count_number_of_each_vowel\n",
      "    self.assertEqual(count_number_of_each_vowel(\"Python\"), {'o': 1})\n",
      "AssertionError: None != {'o': 1}\n",
      "\n",
      "======================================================================\n",
      "FAIL: test_08_load_teams_json (__main__.TestWeekTwentyOne)\n",
      "----------------------------------------------------------------------\n",
      "Traceback (most recent call last):\n",
      "  File \"/var/folders/0b/r__z5mpn6ldgb_w2j7_y_ntr0000gn/T/ipykernel_34534/2010995031.py\", line 64, in test_08_load_teams_json\n",
      "    self.assertIsInstance(teams, dict)\n",
      "AssertionError: None is not an instance of <class 'dict'>\n",
      "\n",
      "======================================================================\n",
      "FAIL: test_09_find_team_full_names (__main__.TestWeekTwentyOne)\n",
      "----------------------------------------------------------------------\n",
      "Traceback (most recent call last):\n",
      "  File \"/var/folders/0b/r__z5mpn6ldgb_w2j7_y_ntr0000gn/T/ipykernel_34534/2010995031.py\", line 70, in test_09_find_team_full_names\n",
      "    self.assertIsInstance(team_full_names, list)\n",
      "AssertionError: None is not an instance of <class 'list'>\n",
      "\n",
      "======================================================================\n",
      "FAIL: test_10_find_teams_with_special_tricodes (__main__.TestWeekTwentyOne)\n",
      "----------------------------------------------------------------------\n",
      "Traceback (most recent call last):\n",
      "  File \"/var/folders/0b/r__z5mpn6ldgb_w2j7_y_ntr0000gn/T/ipykernel_34534/2010995031.py\", line 78, in test_10_find_teams_with_special_tricodes\n",
      "    self.assertIsInstance(teams_with_special_tricodes, dict)\n",
      "AssertionError: None is not an instance of <class 'dict'>\n",
      "\n",
      "----------------------------------------------------------------------\n",
      "Ran 10 tests in 0.024s\n",
      "\n",
      "FAILED (failures=7, errors=3)\n"
     ]
    }
   ],
   "source": [
    "class TestWeekTwentyOne(unittest.TestCase):\n",
    "    def test_01_square_negatives_from_args(self):\n",
    "        self.assertEqual(square_negatives_from_args(-3, -2, -1, 0, 1, 2, 3), [9, 4, 1])\n",
    "        self.assertEqual(square_negatives_from_args(-3, -2, -1, 0, 1, 2, 3, '4', '5'), [9, 4, 1])\n",
    "        self.assertEqual(square_negatives_from_args(-3, -2, -1, False, True, 2, 3, '4', '5'), [9, 4, 1])\n",
    "        self.assertEqual(square_negatives_from_args(-2, -1, 0), [4, 1])\n",
    "    def test_02_filter_positives_from_args(self):\n",
    "        self.assertEqual(filter_positives_from_args(-3, -2, -1, 0, 1, 2, 3), [0, 1, 2, 3])\n",
    "        self.assertEqual(filter_positives_from_args(-3, -2, -1, 0, 1, 2, 3, '4', '5'), [0, 1, 2, 3])\n",
    "        self.assertEqual(filter_positives_from_args(-3, -2, -1, False, True, 2, 3, '4', '5'), [False, True, 2, 3])\n",
    "    def test_03_uppercase_keys_from_kwargs(self):\n",
    "        self.assertEqual(uppercase_keys_from_kwargs(twn='Taiwan'), ['TWN'])\n",
    "        self.assertEqual(uppercase_keys_from_kwargs(twn='Taiwan', jpn='Japan'), ['TWN', 'JPN'])\n",
    "        self.assertEqual(uppercase_keys_from_kwargs(twn='Taiwan', jpn='Japan', ltu=\"Lithuania\"), ['TWN', 'JPN', 'LTU'])\n",
    "        self.assertEqual(uppercase_keys_from_kwargs(twn='Taiwan', jpn='Japan', ltu=\"Lithuania\", svn='Slovenia'), ['TWN', 'JPN', 'LTU', 'SVN'])\n",
    "        self.assertEqual(uppercase_keys_from_kwargs(usa='United States'), ['USA'])\n",
    "    def test_04_count_number_of_each_vowel(self):\n",
    "        self.assertEqual(count_number_of_each_vowel(\"Python\"), {'o': 1})\n",
    "        self.assertEqual(count_number_of_each_vowel(\"Anaconda\"), {'a': 3, 'o': 1})\n",
    "        self.assertEqual(count_number_of_each_vowel(\"Programming and Data Analysis\"), {'o': 1, 'a': 6, 'i': 2})\n",
    "        self.assertEqual(count_number_of_each_vowel(\"National Taiwan University\"), {'a': 4, 'i': 4, 'o': 1, 'u': 1, 'e': 1})\n",
    "    def test_05_palindrome(self):\n",
    "        eye = Palindrome('eye')\n",
    "        dye = Palindrome('dye')\n",
    "        anna = Palindrome('anna')\n",
    "        emma = Palindrome('emma')\n",
    "        self.assertEqual(eye.original_text, 'eye')\n",
    "        self.assertEqual(eye.reversed_text, 'eye')\n",
    "        self.assertTrue(eye.is_palindrome())\n",
    "        self.assertEqual(dye.original_text, 'dye')\n",
    "        self.assertEqual(dye.reversed_text, 'eyd')\n",
    "        self.assertFalse(dye.is_palindrome())\n",
    "        self.assertTrue(anna.is_palindrome())\n",
    "        self.assertFalse(emma.is_palindrome())\n",
    "    def test_06_common_divisors(self):\n",
    "        cd = CommonDivisors(3, 6)\n",
    "        self.assertEqual(cd.x_divisors, {1, 3})\n",
    "        self.assertEqual(cd.y_divisors, {1, 2, 3, 6})\n",
    "        self.assertEqual(cd.get_common_divisors(), {1, 3})\n",
    "        cd = CommonDivisors(4, 8)\n",
    "        self.assertEqual(cd.x_divisors, {1, 2, 4})\n",
    "        self.assertEqual(cd.y_divisors, {1, 2, 4, 8})\n",
    "        self.assertEqual(cd.get_common_divisors(), {1, 2, 4})\n",
    "        cd = CommonDivisors(4, 10)\n",
    "        self.assertEqual(cd.x_divisors, {1, 2, 4})\n",
    "        self.assertEqual(cd.y_divisors, {1, 2, 5, 10})\n",
    "        self.assertEqual(cd.get_common_divisors(), {1, 2})\n",
    "    def test_07_prime_judgement(self):\n",
    "        one = PrimeJudgement(1)\n",
    "        two = PrimeJudgement(2)\n",
    "        three = PrimeJudgement(3)\n",
    "        four = PrimeJudgement(4)\n",
    "        five = PrimeJudgement(5)\n",
    "        self.assertEqual(one.get_divisors(), {1})\n",
    "        self.assertFalse(one.is_prime())\n",
    "        self.assertEqual(two.get_divisors(), {1, 2})\n",
    "        self.assertTrue(two.is_prime())\n",
    "        self.assertEqual(four.get_divisors(), {1, 2, 4})\n",
    "        self.assertFalse(one.is_prime())\n",
    "        self.assertTrue(three.is_prime())\n",
    "        self.assertTrue(five.is_prime())\n",
    "    def test_08_load_teams_json(self):\n",
    "        teams = load_teams_json()\n",
    "        self.assertIsInstance(teams, dict)\n",
    "        self.assertEqual(len(teams), 2)\n",
    "        self.assertIn('_internal', teams.keys())\n",
    "        self.assertIn('league', teams.keys())\n",
    "    def test_09_find_team_full_names(self):\n",
    "        team_full_names = find_team_full_names()\n",
    "        self.assertIsInstance(team_full_names, list)\n",
    "        self.assertEqual(len(team_full_names), 30)\n",
    "        self.assertIn('Boston Celtics', team_full_names)\n",
    "        self.assertIn('Brooklyn Nets', team_full_names)\n",
    "        self.assertIn('Chicago Bulls', team_full_names)\n",
    "        self.assertIn('Utah Jazz', team_full_names)\n",
    "    def test_10_find_teams_with_special_tricodes(self):\n",
    "        teams_with_special_tricodes = find_teams_with_special_tricodes()\n",
    "        self.assertIsInstance(teams_with_special_tricodes, dict)\n",
    "        self.assertEqual(teams_with_special_tricodes['BKN'], 'Brooklyn Nets')\n",
    "        self.assertEqual(teams_with_special_tricodes['SAS'], 'San Antonio Spurs')\n",
    "\n",
    "suite = unittest.TestLoader().loadTestsFromTestCase(TestWeekTwentyOne)\n",
    "runner = unittest.TextTestRunner(verbosity=2)\n",
    "test_results = runner.run(suite)\n",
    "number_of_failures = len(test_results.failures)\n",
    "number_of_errors = len(test_results.errors)\n",
    "number_of_test_runs = test_results.testsRun\n",
    "number_of_successes = number_of_test_runs - (number_of_failures + number_of_errors)"
   ]
  },
  {
   "cell_type": "code",
   "execution_count": 13,
   "metadata": {
    "deletable": false,
    "editable": false
   },
   "outputs": [
    {
     "name": "stdout",
     "output_type": "stream",
     "text": [
      "您在 10 道 Python 練習答對了 0 題。\n"
     ]
    }
   ],
   "source": [
    "print(\"您在 {} 道 Python 練習答對了 {} 題。\".format(number_of_test_runs, number_of_successes))"
   ]
  }
 ],
 "metadata": {
  "kernelspec": {
   "display_name": "prgda",
   "language": "python",
   "name": "prgda"
  },
  "language_info": {
   "codemirror_mode": {
    "name": "ipython",
    "version": 3
   },
   "file_extension": ".py",
   "mimetype": "text/x-python",
   "name": "python",
   "nbconvert_exporter": "python",
   "pygments_lexer": "ipython3",
   "version": "3.10.0"
  }
 },
 "nbformat": 4,
 "nbformat_minor": 4
}
